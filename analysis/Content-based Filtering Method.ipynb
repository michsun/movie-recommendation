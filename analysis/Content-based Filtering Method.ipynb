{
  "nbformat": 4,
  "nbformat_minor": 0,
  "metadata": {
    "colab": {
      "provenance": []
    },
    "kernelspec": {
      "name": "python3",
      "display_name": "Python 3"
    },
    "language_info": {
      "name": "python"
    }
  },
  "cells": [
    {
      "cell_type": "code",
      "source": [
        "import pandas as pd\n",
        "from sklearn.feature_extraction.text import TfidfVectorizer\n",
        "from sklearn.metrics.pairwise import linear_kernel\n",
        "from sklearn.metrics import mean_squared_error\n",
        "from math import sqrt"
      ],
      "metadata": {
        "id": "UeVTvYmxxGa_"
      },
      "execution_count": 63,
      "outputs": []
    },
    {
      "cell_type": "code",
      "source": [
        "# Step 1: Download and Extract the Dataset\n",
        "%cd /content/drive/MyDrive/moive\n",
        "!unzip /content/drive/MyDrive/moive/ml-latest-small.zip"
      ],
      "metadata": {
        "colab": {
          "base_uri": "https://localhost:8080/"
        },
        "id": "xWpOuOrVxTYL",
        "outputId": "5107a8d5-0d64-4290-cf5c-991ba61ada1c"
      },
      "execution_count": 64,
      "outputs": [
        {
          "output_type": "stream",
          "name": "stdout",
          "text": [
            "/content/drive/MyDrive/moive\n",
            "Archive:  /content/drive/MyDrive/moive/ml-latest-small.zip\n",
            "replace ml-latest-small/links.csv? [y]es, [n]o, [A]ll, [N]one, [r]ename: "
          ]
        }
      ]
    },
    {
      "cell_type": "code",
      "source": [
        "# Step 2: Load the Data\n",
        "# Load the movies data\n",
        "movies = pd.read_csv('/content/drive/MyDrive/moive/ml-latest-small/movies.csv')\n",
        "\n",
        "# Load the ratings data\n",
        "ratings = pd.read_csv('/content/drive/MyDrive/moive/ml-latest-small/ratings.csv')\n",
        "\n",
        "# Step 3: Preprocess the Data\n",
        "# Convert the movie genres into a single string\n",
        "movies['genres'] = movies['genres'].str.replace('|', ' ')\n",
        "\n",
        "# Step 4: Compute Movie Similarities\n",
        "# Create a TF-IDF vectorizer to compute similarity based on movie titles and genres\n",
        "tfidf = TfidfVectorizer(strip_accents='unicode', analyzer='word', ngram_range=(1, 2), stop_words='english')\n",
        "tfidf_matrix = tfidf.fit_transform(movies['title'] + ' ' + movies['genres'])\n",
        "\n",
        "# Calculate the cosine similarity matrix\n",
        "cosine_sim = linear_kernel(tfidf_matrix, tfidf_matrix)"
      ],
      "metadata": {
        "colab": {
          "base_uri": "https://localhost:8080/"
        },
        "id": "cBeLr3p6xZTe",
        "outputId": "6c52b74a-32c1-4361-d21e-50c9ec2092b2"
      },
      "execution_count": 65,
      "outputs": [
        {
          "output_type": "stream",
          "name": "stderr",
          "text": [
            "<ipython-input-65-8d94815de740>:10: FutureWarning: The default value of regex will change from True to False in a future version. In addition, single character regular expressions will *not* be treated as literal strings when regex=True.\n",
            "  movies['genres'] = movies['genres'].str.replace('|', ' ')\n"
          ]
        }
      ]
    },
    {
      "cell_type": "code",
      "source": [
        "# Step 6: Model Prediction\n",
        "def get_user_recommendations(user_id, cosine_sim_matrix, movies_data, ratings_data, top_n=3):\n",
        "    # Get the movies rated by the given user\n",
        "    user_ratings = ratings_data[ratings_data['userId'] == user_id]\n",
        "\n",
        "    # Get the movieIds rated by the user\n",
        "    user_rated_movie_ids = user_ratings['movieId'].tolist()\n",
        "\n",
        "    # Get the indices of the movies rated by the user\n",
        "    user_rated_movie_indices = movies_data[movies_data['movieId'].isin(user_rated_movie_ids)].index\n",
        "\n",
        "    # Calculate the average rating given by the user\n",
        "    user_mean_rating = user_ratings['rating'].mean()\n",
        "\n",
        "    # Initialize an empty dictionary to store movie recommendations\n",
        "    recommendations = {}\n",
        "\n",
        "    # Iterate over the movies rated by the user\n",
        "    for movie_index in user_rated_movie_indices:\n",
        "        # Get the pairwise similarity scores for the current movie\n",
        "        sim_scores = list(enumerate(cosine_sim_matrix[movie_index]))\n",
        "\n",
        "        # Sort the movies based on the similarity scores in descending order\n",
        "        sim_scores = sorted(sim_scores, key=lambda x: x[1], reverse=True)\n",
        "\n",
        "        # Get the top-n most similar movies (excluding the rated movies)\n",
        "        top_movies_indices = [i[0] for i in sim_scores if i[0] not in user_rated_movie_indices][:top_n]\n",
        "\n",
        "        # Update the recommendations dictionary with the top movies and their similarity scores\n",
        "        for index in top_movies_indices:\n",
        "            if index in recommendations:\n",
        "                recommendations[index]['similarity'] += sim_scores[index][1]\n",
        "            else:\n",
        "                recommendations[index] = {\n",
        "                    'movieId': movies_data.loc[index]['movieId'],\n",
        "                    'title': movies_data.loc[index]['title'],\n",
        "                    'similarity': sim_scores[index][1]\n",
        "                }\n",
        "\n",
        "    # Convert the recommendations dictionary into a DataFrame\n",
        "    recommendations_df = pd.DataFrame.from_dict(recommendations, orient='index')\n",
        "    recommendations_df['similarity'] /= top_n\n",
        "\n",
        "    # Sort the recommendations based on the similarity scores in descending order\n",
        "    recommendations_df = recommendations_df.sort_values('similarity', ascending=False).reset_index(drop=True)\n",
        "\n",
        "    return recommendations_df.head(top_n)"
      ],
      "metadata": {
        "id": "J29aSZJ_xgnf"
      },
      "execution_count": 66,
      "outputs": []
    },
    {
      "cell_type": "code",
      "source": [
        "# Step 7: Model Evaluation\n",
        "# Calculate the RMSE\n",
        "rmse = sqrt(mean_squared_error(ratings['rating'], [ratings['rating'].mean()] * len(ratings)))\n",
        "print(f\"RMSE for the Model: {rmse}\")\n",
        "\n",
        "# Calculate the Recall\n",
        "relevant_movies = ratings[ratings['rating'] >= 4.0]\n",
        "relevant_movie_ids = relevant_movies['movieId'].tolist()\n",
        "recommended_movie_ids = user_recommendations['movieId'].tolist()\n",
        "recall = len(set(relevant_movie_ids) & set(recommended_movie_ids)) / len(relevant_movie_ids)\n",
        "print(f\"Recall for the Model: {recall}\")"
      ],
      "metadata": {
        "colab": {
          "base_uri": "https://localhost:8080/"
        },
        "id": "Kj8dcCTKxncH",
        "outputId": "e92a255e-b6b1-4314-ee85-4a0278fc8cc2"
      },
      "execution_count": 67,
      "outputs": [
        {
          "output_type": "stream",
          "name": "stdout",
          "text": [
            "RMSE for the Model: 1.0425240696180562\n",
            "Recall for the Model: 4.1169205434335116e-05\n"
          ]
        }
      ]
    },
    {
      "cell_type": "code",
      "source": [
        "# Example: Predicting Recommendations for User 1\n",
        "user_id = 1\n",
        "user_recommendations = get_user_recommendations(user_id, cosine_sim, movies, ratings, top_n=3)\n",
        "\n",
        "# Print the top 3 recommended movies for the user\n",
        "print(f\"Top 3 Recommendations for User {user_id}:\")\n",
        "print(user_recommendations[['movieId', 'title', 'similarity']])"
      ],
      "metadata": {
        "colab": {
          "base_uri": "https://localhost:8080/"
        },
        "id": "kmfHeDwpxrQV",
        "outputId": "c5303bd1-887b-4444-eb41-a29a02108584"
      },
      "execution_count": 68,
      "outputs": [
        {
          "output_type": "stream",
          "name": "stdout",
          "text": [
            "Top 3 Recommendations for User 1:\n",
            "   movieId                 title  similarity\n",
            "0       64  Two if by Sea (1996)    0.110481\n",
            "1      252           I.Q. (1994)    0.108168\n",
            "2      168   First Knight (1995)    0.101830\n"
          ]
        }
      ]
    }
  ]
}